{
  "cells": [
    {
      "cell_type": "markdown",
      "metadata": {
        "id": "view-in-github",
        "colab_type": "text"
      },
      "source": [
        "<a href=\"https://colab.research.google.com/github/huricane85/FPL-API-Fixture-modeler/blob/main/RWC%20draw%20plus%20knockout%2005.09.2023.ipynb\" target=\"_parent\"><img src=\"https://colab.research.google.com/assets/colab-badge.svg\" alt=\"Open In Colab\"/></a>"
      ]
    },
    {
      "cell_type": "markdown",
      "metadata": {
        "id": "mfIMtw6BaiO1"
      },
      "source": [
        "## Pandas DataFrame: Create from lists of values"
      ]
    },
    {
      "cell_type": "code",
      "execution_count": null,
      "metadata": {
        "id": "qQ5S72eoaiuA"
      },
      "outputs": [],
      "source": [
        "import pandas as pd\n",
        "\n",
        "last_names = ['Connor', 'Connor', 'Reese']\n",
        "first_names = ['Sarah', 'John', 'Kyle']\n",
        "df = pd.DataFrame({\n",
        "  'first_name': first_names,\n",
        "  'last_name': last_names,\n",
        "})\n",
        "df"
      ]
    },
    {
      "cell_type": "markdown",
      "metadata": {
        "id": "da6CMhXZas7m"
      },
      "source": [
        "## Pandas DataFrame: Rename multiple Columns"
      ]
    },
    {
      "cell_type": "code",
      "execution_count": null,
      "metadata": {
        "id": "PidN8TlvatXt"
      },
      "outputs": [],
      "source": [
        "import pandas as pd\n",
        "df = pd.DataFrame({\n",
        "    'Year': [2016, 2015, 2014, 2013, 2012],\n",
        "    'Top Animal': ['Giant panda', 'Chicken', 'Pig', 'Turkey', 'Dog']\n",
        "})\n",
        "\n",
        "df.rename(columns={\n",
        "    'Year': 'Calendar Year',\n",
        "    'Top Animal': 'Favorite Animal',\n",
        "}, inplace=True)\n",
        "df"
      ]
    },
    {
      "cell_type": "markdown",
      "metadata": {
        "id": "-3GmnRDV--F_"
      },
      "source": [
        "## Pandas DataFrame: Query by regexp (regular expression)"
      ]
    },
    {
      "cell_type": "code",
      "execution_count": null,
      "metadata": {
        "id": "y2_DTKp-9v2A"
      },
      "outputs": [],
      "source": [
        "import pandas as pd\n",
        "df = pd.DataFrame({\n",
        "  'first_name': ['Sarah', 'John', 'Kyle', 'Joe'],\n",
        "  'last_name': ['Connor', 'Connor', 'Reese', 'Bonnot'],\n",
        "})\n",
        "\n",
        "df[df.last_name.str.match('.*onno.*')]"
      ]
    },
    {
      "cell_type": "markdown",
      "metadata": {
        "id": "VR_tSBKZPCHe"
      },
      "source": [
        "## Pandas DataFrame: Query by variable value"
      ]
    },
    {
      "cell_type": "markdown",
      "metadata": {
        "id": "emvt3RwC4U2L"
      },
      "source": [
        "Evaluate a variable as the value to find."
      ]
    },
    {
      "cell_type": "code",
      "execution_count": null,
      "metadata": {
        "id": "5chfuU3RPItU"
      },
      "outputs": [],
      "source": [
        "import pandas as pd\n",
        "df = pd.DataFrame({\n",
        "  'first_name': ['Sarah', 'John', 'Kyle'],\n",
        "  'last_name': ['Connor', 'Connor', 'Reese'],\n",
        "})\n",
        "\n",
        "foo = 'Connor'\n",
        "df.query('last_name == @foo')"
      ]
    },
    {
      "cell_type": "markdown",
      "metadata": {
        "id": "bHFe_2xK3WI7"
      },
      "source": [
        "## Pandas DataFrame: Query using variable value as a column name"
      ]
    },
    {
      "cell_type": "markdown",
      "metadata": {
        "id": "q8PqFCcW4y6z"
      },
      "source": [
        "Evaluate a variable, to use its value as the name of a column in a query.\n",
        "\n",
        "E.g. Query for rows where `John` is the value in the column named `first_name`."
      ]
    },
    {
      "cell_type": "code",
      "execution_count": null,
      "metadata": {
        "id": "PbXpFR93PRtc"
      },
      "outputs": [],
      "source": [
        "import pandas as pd\n",
        "df = pd.DataFrame(data={\n",
        "  'first_name': ['Sarah', 'John', 'Kyle'],\n",
        "  'last_name': ['Connor', 'Connor', 'Reese'],\n",
        "})\n",
        "\n",
        "column_name = 'first_name'\n",
        "df.query(f\"`{column_name}` == 'John'\")"
      ]
    },
    {
      "cell_type": "markdown",
      "metadata": {
        "id": "BIgQb_ICbNu9"
      },
      "source": [
        "## Pandas DataFrame: Query by Timestamp above a value"
      ]
    },
    {
      "cell_type": "code",
      "execution_count": null,
      "metadata": {
        "id": "0PAn5prJbOXk"
      },
      "outputs": [],
      "source": [
        "import pandas as pd\n",
        "df = pd.DataFrame({\n",
        "  'time': ['2022-09-14 00:52:00-07:00', '2022-09-14 00:52:30-07:00',\n",
        "           '2022-09-14 01:52:30-07:00'],\n",
        "  'letter': ['A', 'B', 'C'],\n",
        "})\n",
        "df['time'] = pd.to_datetime(df.time)\n",
        "\n",
        "df.query('time >= \"2022-09-14 00:52:30-07:00\"')"
      ]
    },
    {
      "cell_type": "markdown",
      "metadata": {
        "id": "MEFOgYwT0jiY"
      },
      "source": [
        "## Pandas DataFrame: Query for Timestamp between two values"
      ]
    },
    {
      "cell_type": "code",
      "execution_count": null,
      "metadata": {
        "id": "gznADrAnbXGY"
      },
      "outputs": [],
      "source": [
        "import pandas as pd\n",
        "df = pd.DataFrame({\n",
        "  'time': ['2022-09-14 00:52:00-07:00', '2022-09-14 00:52:30-07:00',\n",
        "           '2022-09-14 01:52:30-07:00'],\n",
        "  'letter': ['A', 'B', 'C'],\n",
        "})\n",
        "df['time'] = pd.to_datetime(df.time)\n",
        "\n",
        "begin_ts = '2022-09-14 00:52:00-07:00'\n",
        "end_ts = '2022-09-14 00:54:00-07:00'\n",
        "\n",
        "df.query('@begin_ts <= time < @end_ts')"
      ]
    },
    {
      "cell_type": "markdown",
      "metadata": {
        "id": "4zoeyh7ndKKN"
      },
      "source": [
        "## Pandas DataFrame: Filter by Timestamp in DatetimeIndex using `.loc[]`"
      ]
    },
    {
      "cell_type": "code",
      "execution_count": null,
      "metadata": {
        "id": "1B_YCZUrbaFG"
      },
      "outputs": [],
      "source": [
        "import pandas as pd\n",
        "df = pd.DataFrame({\n",
        "  'time': ['2022-09-14 00:52:00-07:00', '2022-09-14 00:52:30-07:00',\n",
        "           '2022-09-14 01:52:30-07:00'],\n",
        "  'letter': ['A', 'B', 'C'],\n",
        "})\n",
        "df['time'] = pd.to_datetime(df.time)\n",
        "df.set_index('time', inplace=True)\n",
        "\n",
        "df.loc['2022-09-14':'2022-09-14 00:53']"
      ]
    },
    {
      "cell_type": "markdown",
      "metadata": {
        "id": "fDscd8p3hOqz"
      },
      "source": [
        "## Pandas DataFrame: Filter by Timestamp using TimeDelta string"
      ]
    },
    {
      "cell_type": "code",
      "execution_count": null,
      "metadata": {
        "id": "YoRYanJrVV5g"
      },
      "outputs": [],
      "source": [
        "import pandas as pd\n",
        "df = pd.DataFrame({\n",
        "  'time': ['2022-09-14 00:52:00-07:00', '2022-09-14 00:52:30-07:00',\n",
        "           '2022-09-14 01:52:30-07:00'],\n",
        "  'letter': ['A', 'B', 'C'],\n",
        "})\n",
        "df['time'] = pd.to_datetime(df.time)\n",
        "\n",
        "def rows_in_time_range(df, time_column, start_ts_str, timedelta_str):\n",
        "  # Return rows from df, where start_ts < time_column <= start_ts + delta.\n",
        "  # start_ts_str can be a date '2022-09-01' or a time '2022-09-14 00:52:00-07:00'\n",
        "  # timedelta_str examples: '2 minutes'  '2 days 2 hours 15 minutes 30 seconds'\n",
        "  start_ts = pd.Timestamp(start_ts_str).tz_localize('US/Pacific')\n",
        "  end_ts = start_ts + pd.to_timedelta(timedelta_str)\n",
        "  return df.query(\"@start_ts <= {0} < @end_ts\".format(time_column))\n",
        "\n",
        "rows_in_time_range(df, 'time', '2022-09-14 00:00', '52 minutes 31 seconds')"
      ]
    },
    {
      "cell_type": "markdown",
      "metadata": {
        "id": "DyrfPExcbjFY"
      },
      "source": [
        "## Pandas: Describe Timestamp values in a column"
      ]
    },
    {
      "cell_type": "code",
      "execution_count": null,
      "metadata": {
        "id": "T1-ozcpHbitV"
      },
      "outputs": [],
      "source": [
        "import pandas as pd\n",
        "df = pd.DataFrame({\n",
        "  'time': ['2022-09-14 00:52:00-07:00', '2022-09-14 00:52:30-07:00',\n",
        "           '2022-09-14 01:52:30-07:00'],\n",
        "  'letter': ['A', 'B', 'C'],\n",
        "})\n",
        "df['time'] = pd.to_datetime(df.time)\n",
        "\n",
        "df['time'].describe(datetime_is_numeric=True)"
      ]
    },
    {
      "cell_type": "markdown",
      "metadata": {
        "id": "mrWXmdmOcA6F"
      },
      "source": [
        "## Pandas DataFrame: Explode a column containing dictionary values into multiple columns"
      ]
    },
    {
      "cell_type": "markdown",
      "metadata": {
        "id": "fcbWC_o5Bq6J"
      },
      "source": [
        "This code transforms or splits the dictionary column into many columns.\n",
        "\n",
        "E.g. The output DataFrame of this cell will have columns named [`date, letter, fruit, weather`]."
      ]
    },
    {
      "cell_type": "code",
      "execution_count": null,
      "metadata": {
        "id": "2225FVJacBYs"
      },
      "outputs": [],
      "source": [
        "import pandas as pd\n",
        "df = pd.DataFrame({\n",
        "  'date': ['2022-09-14', '2022-09-15', '2022-09-16'],\n",
        "  'letter': ['A', 'B', 'C'],\n",
        "  'dict' : [{ 'fruit': 'apple', 'weather': 'aces'},\n",
        "            { 'fruit': 'banana', 'weather': 'bad'},\n",
        "            { 'fruit': 'cantaloupe', 'weather': 'cloudy'}],\n",
        "})\n",
        "\n",
        "pd.concat([df.drop(['dict'], axis=1), df['dict'].apply(pd.Series)], axis=1)"
      ]
    },
    {
      "cell_type": "markdown",
      "metadata": {
        "id": "SIjbg2DUki9C"
      },
      "source": [
        "## Pandas DataFrame: Extract values using regexp (regular expression)"
      ]
    },
    {
      "cell_type": "code",
      "execution_count": null,
      "metadata": {
        "id": "Y7v3bFUmkidS"
      },
      "outputs": [],
      "source": [
        "import pandas as pd\n",
        "df = pd.DataFrame({\n",
        "  'request': ['GET /index.html?baz=3', 'GET /foo.html?bar=1'],\n",
        "})\n",
        "\n",
        "df['request'].str.extract('GET /([^?]+)\\?', expand=True)"
      ]
    },
    {
      "cell_type": "markdown",
      "metadata": {
        "id": "_8mikXMvjahc"
      },
      "source": [
        "## Pandas Timestamp: Convert string to Timestamp, using date only"
      ]
    },
    {
      "cell_type": "markdown",
      "metadata": {
        "id": "smKFFysmlQOx"
      },
      "source": [
        "I.e. Midnight on the given date."
      ]
    },
    {
      "cell_type": "code",
      "execution_count": null,
      "metadata": {
        "id": "ZPum-jBojGeF"
      },
      "outputs": [],
      "source": [
        "import pandas as pd\n",
        "\n",
        "pd.Timestamp('9/27/22').tz_localize('US/Pacific')"
      ]
    },
    {
      "cell_type": "markdown",
      "metadata": {
        "id": "QlE2B9gYlUto"
      },
      "source": [
        "## Pandas Timestamp: Convert string to Timestamp"
      ]
    },
    {
      "cell_type": "code",
      "execution_count": null,
      "metadata": {
        "id": "qZeu0qa3jpcu"
      },
      "outputs": [],
      "source": [
        "import pandas as pd\n",
        "\n",
        "pd.Timestamp('9/27/22 06:59').tz_localize('US/Pacific')"
      ]
    },
    {
      "cell_type": "markdown",
      "metadata": {
        "id": "M-p8mTaHlE3I"
      },
      "source": [
        "## Pandas: Create a TimeDelta using `unit`"
      ]
    },
    {
      "cell_type": "markdown",
      "metadata": {
        "id": "1iYqXT8qmEZn"
      },
      "source": [
        "From an integer.\n",
        "`unit` is a string, defaulting to `ns`. Possible values:\n"
      ]
    },
    {
      "cell_type": "code",
      "execution_count": null,
      "metadata": {
        "id": "zNo40II-lD2q"
      },
      "outputs": [],
      "source": [
        "import pandas as pd\n",
        "\n",
        "pd.to_timedelta(1, unit='h')"
      ]
    },
    {
      "cell_type": "markdown",
      "metadata": {
        "id": "FMQyJtg5mmCx"
      },
      "source": [
        "## Pandas: Create a TimeDelta using available kwargs"
      ]
    },
    {
      "cell_type": "markdown",
      "metadata": {
        "id": "Wh4w12fS4v0J"
      },
      "source": [
        "Example keyworded args: {days, seconds, microseconds, milliseconds, minutes, hours, weeks}"
      ]
    },
    {
      "cell_type": "code",
      "execution_count": null,
      "metadata": {
        "id": "giw4M16gmlkK"
      },
      "outputs": [],
      "source": [
        "import pandas as pd\n",
        "\n",
        "pd.Timedelta(days=2)"
      ]
    },
    {
      "cell_type": "markdown",
      "metadata": {
        "id": "xXR7N2sCmA-_"
      },
      "source": [
        "## Pandas: Create a TimeDelta from a string"
      ]
    },
    {
      "cell_type": "code",
      "execution_count": null,
      "metadata": {
        "id": "_SjGanWwl0XG"
      },
      "outputs": [],
      "source": [
        "import pandas as pd\n",
        "\n",
        "pd.Timedelta('2 days 2 hours 15 minutes 30 seconds')"
      ]
    },
    {
      "cell_type": "markdown",
      "metadata": {
        "id": "fnwXL2jnEO0V"
      },
      "source": [
        "## Pandas: Replace NaN values in a Column"
      ]
    },
    {
      "cell_type": "code",
      "execution_count": null,
      "metadata": {
        "id": "EeKjQOEJEOVh"
      },
      "outputs": [],
      "source": [
        "import numpy as np\n",
        "import pandas as pd\n",
        "df = pd.DataFrame({\n",
        "  'dogs': [5, 10, np.nan, 7],\n",
        "})\n",
        "\n",
        "df['dogs'].replace(np.nan, 0, regex=True)"
      ]
    },
    {
      "cell_type": "markdown",
      "metadata": {
        "id": "OCuIYAhHJimy"
      },
      "source": [
        "## Pandas DataFrame: Drop duplicate rows"
      ]
    },
    {
      "cell_type": "code",
      "execution_count": null,
      "metadata": {
        "id": "NjBDuqQSEgml"
      },
      "outputs": [],
      "source": [
        "import pandas as pd\n",
        "df = pd.DataFrame({\n",
        "  'first_name': ['Sarah', 'John', 'Kyle', 'Joe'],\n",
        "  'last_name': ['Connor', 'Connor', 'Reese', 'Bonnot'],\n",
        "})\n",
        "df.set_index('last_name', inplace=True)\n",
        "\n",
        "df.loc[~df.index.duplicated(), :]"
      ]
    },
    {
      "cell_type": "markdown",
      "metadata": {
        "id": "dy-BKNgWUwnQ"
      },
      "source": [
        "## Pandas DataFrame: Ignore one Column"
      ]
    },
    {
      "cell_type": "code",
      "execution_count": null,
      "metadata": {
        "id": "y00BW8DOUxGs"
      },
      "outputs": [],
      "source": [
        "import pandas as pd\n",
        "df = pd.DataFrame({\n",
        "  'first_name': ['Sarah', 'John', 'Kyle', 'Joe'],\n",
        "  'last_name': ['Connor', 'Connor', 'Reese', 'Bonnot'],\n",
        "})\n",
        "\n",
        "df.loc[:, df.columns!='last_name']"
      ]
    },
    {
      "cell_type": "markdown",
      "metadata": {
        "id": "5Vp6gD9OVo1Z"
      },
      "source": [
        "## Pandas DataFrame: Intersect Indexes"
      ]
    },
    {
      "cell_type": "code",
      "execution_count": null,
      "metadata": {
        "id": "Y3kdge_GVxO3"
      },
      "outputs": [],
      "source": [
        "import pandas as pd\n",
        "terminator_df = pd.DataFrame({\n",
        "  'first_name': ['Sarah', 'John', 'Kyle'],\n",
        "  'last_name': ['Connor', 'Connor', 'Reese'],\n",
        "})\n",
        "terminator_df.set_index('first_name', inplace=True)\n",
        "\n",
        "buckaroo_df = pd.DataFrame({\n",
        "  'first_name': ['John', 'John', 'Buckaroo'],\n",
        "  'last_name': ['Parker', 'Whorfin', 'Banzai'],\n",
        "})\n",
        "buckaroo_df.set_index('first_name', inplace=True)\n",
        "\n",
        "terminator_df.index.intersection(buckaroo_df.index).shape"
      ]
    },
    {
      "cell_type": "markdown",
      "metadata": {
        "id": "VVh1EtmVV0Qb"
      },
      "source": [
        "## Pandas DataFrame: Select all rows from A that are not in B, using the index"
      ]
    },
    {
      "cell_type": "code",
      "execution_count": null,
      "metadata": {
        "id": "OUazjSSUV_45"
      },
      "outputs": [],
      "source": [
        "import pandas as pd\n",
        "terminator_df = pd.DataFrame({\n",
        "  'first_name': ['Sarah', 'John', 'Kyle'],\n",
        "  'last_name': ['Connor', 'Connor', 'Reese'],\n",
        "})\n",
        "terminator_df.set_index('first_name', inplace=True)\n",
        "\n",
        "buckaroo_df = pd.DataFrame({\n",
        "  'first_name': ['John', 'John', 'Buckaroo'],\n",
        "  'last_name': ['Parker', 'Whorfin', 'Banzai'],\n",
        "})\n",
        "buckaroo_df.set_index('first_name', inplace=True)\n",
        "\n",
        "terminator_df[~terminator_df.index.isin(buckaroo_df.index)]"
      ]
    },
    {
      "cell_type": "markdown",
      "metadata": {
        "id": "MVTdtZJAWItJ"
      },
      "source": [
        "## Pandas DataFrame: Select rows by an attribute of a column value"
      ]
    },
    {
      "cell_type": "markdown",
      "metadata": {
        "id": "a2XfO20JWYy7"
      },
      "source": [
        "Use the Series `map()` method.\n",
        "E.g. To filter by the length of a column values:"
      ]
    },
    {
      "cell_type": "code",
      "execution_count": null,
      "metadata": {
        "id": "rmuXV7bzVnU-"
      },
      "outputs": [],
      "source": [
        "import pandas as pd\n",
        "df = pd.DataFrame({\n",
        "  'first_name': ['Sarah', 'John', 'Kyle'],\n",
        "  'last_name': ['Connor', 'Connor', 'Reese'],\n",
        "})\n",
        "\n",
        "df[df['last_name'].map(len) == 5]"
      ]
    },
    {
      "cell_type": "markdown",
      "metadata": {
        "id": "AMQ60B9Gghjh"
      },
      "source": [
        "## Pandas DataFrame: Sort the count of rows grouped on columns"
      ]
    },
    {
      "cell_type": "code",
      "execution_count": null,
      "metadata": {
        "id": "j4nwrfh-gVxX"
      },
      "outputs": [],
      "source": [
        "import pandas as pd\n",
        "df = pd.DataFrame({\n",
        "  'first_name': ['Sarah', 'John', 'Kyle'],\n",
        "  'last_name': ['Connor', 'Connor', 'Reese'],\n",
        "})\n",
        "\n",
        "df.groupby(['last_name']).size().sort_values(ascending=False)"
      ]
    },
    {
      "cell_type": "markdown",
      "metadata": {
        "id": "IRl1d3PY0ulI"
      },
      "source": [
        "## Pandas DataFrame: Reshape to have 1 row per value in a list column"
      ]
    },
    {
      "cell_type": "markdown",
      "metadata": {
        "id": "I2Pberyl1KTk"
      },
      "source": [
        "Creates a new DataFrame that is a transformed version of the input. E.g.\n",
        "*   Input: df with a column named `msg_ids` that is a list of values (i.e. many per row, at least in some rows).\n",
        "*   Output: new_df which has 1 row per unique value found in any of the original `msg_ids` lists, with that value in a new column named `msg_id`.\n"
      ]
    },
    {
      "cell_type": "code",
      "execution_count": null,
      "metadata": {
        "id": "AvPNQJFn090X"
      },
      "outputs": [],
      "source": [
        "import pandas as pd\n",
        "df = pd.DataFrame({\n",
        "  'date': ['9/1/22', '9/2/22', '9/3/22'],\n",
        "  'action': ['Add', 'Update', 'Delete'],\n",
        "  'msg_ids': [[1, 2, 3], [], [2, 3]],\n",
        "})\n",
        "df.set_index('date', inplace=True)\n",
        "\n",
        "\n",
        "temp_series = df['msg_ids'].apply(pd.Series, 1).stack()\n",
        "temp_series.index = temp_series.index.droplevel(-1)\n",
        "temp_series.name = 'msg_id'\n",
        "new_df = temp_series.to_frame()\n",
        "new_df.set_index('msg_id', inplace=True)\n",
        "new_df.loc[~new_df.index.duplicated(), :] # Drop duplicates."
      ]
    },
    {
      "cell_type": "markdown",
      "metadata": {
        "id": "I14ORpEPP4Wr"
      },
      "source": [
        "## Pandas: DataFrames: Group Timeseries by Frequency"
      ]
    },
    {
      "cell_type": "markdown",
      "metadata": {
        "id": "yycF10l6Qe8Y"
      },
      "source": [
        "You can group timestamped data into intervals of arbitrary duration using a Grouper object to specify groupby instructions.  The `freq` parameter is a string that may contain an integer followed by an [offset alias](https://pandas.pydata.org/pandas-docs/stable/user_guide/timeseries.html#offset-aliases).  E.g. To see output for 2 minute long intervals:"
      ]
    },
    {
      "cell_type": "code",
      "execution_count": null,
      "metadata": {
        "id": "9Eh3efwfQeFr"
      },
      "outputs": [],
      "source": [
        "import pandas as pd\n",
        "df = pd.DataFrame({\n",
        "  'time': ['2022-09-01 00:00:01-07:00', '2022-09-01 00:00:02-07:00',\n",
        "           '2022-09-01 00:01:00-07:00', '2022-09-01 00:02:00-07:00',\n",
        "           '2022-09-01 00:03:00-07:00', '2022-09-01 00:04:00-07:00',\n",
        "           '2022-09-01 00:05:00-07:00', '2022-09-01 00:07:00-07:00'],\n",
        "  'requests': [1, 1, 1, 1, 1, 1, 1, 1],\n",
        "})\n",
        "df['time'] = pd.to_datetime(df.time)\n",
        "\n",
        "df.groupby(pd.Grouper(key='time', freq='2min')).sum()"
      ]
    },
    {
      "cell_type": "code",
      "source": [
        "import random\n",
        "\n",
        "# List of names\n",
        "names = ['Name1', 'Name2', 'Name3', ...]  # Replace with your 692 names\n",
        "\n",
        "# Number of allocations\n",
        "num_allocations = 5\n",
        "\n",
        "# Number of possible numbers (1 to 16)\n",
        "num_numbers = 16\n",
        "\n",
        "# Initialize a dictionary to store allocations for each name\n",
        "allocations = {name: [] for name in names}\n",
        "\n",
        "for _ in range(num_allocations):\n",
        "    # Generate a list of available numbers for each allocation\n",
        "    available_numbers = list(range(1, num_numbers + 1))\n",
        "\n",
        "    for name in names:\n",
        "        # Shuffle the available numbers to randomize allocation\n",
        "        random.shuffle(available_numbers)\n",
        "\n",
        "        # Choose the first number from the shuffled list\n",
        "        chosen_number = available_numbers.pop(0)\n",
        "\n",
        "        # Add the chosen number to the allocation for the current name\n",
        "        allocations[name].append(chosen_number)\n",
        "\n",
        "# Ensure that no one has the same set of numbers as anyone else\n",
        "unique_allocations = set(tuple(allocations[name]) for name in names)\n",
        "\n",
        "# Print the unique allocations\n",
        "for i, allocation in enumerate(unique_allocations, start=1):\n",
        "    print(f\"Allocation {i}:\")\n",
        "    for name, numbers in allocations.items():\n",
        "        if tuple(numbers) == allocation:\n",
        "            print(f\"{name}: {numbers}\")\n",
        "    print(\"\\n\")\n"
      ],
      "metadata": {
        "id": "BWQpIsVZYQJY"
      },
      "execution_count": null,
      "outputs": []
    },
    {
      "cell_type": "code",
      "source": [
        "import random\n",
        "import pandas as pd\n",
        "\n",
        "# List of names\n",
        "names = ['Name1', 'Name2', 'Name3', ...]  # Replace with your 692 names\n",
        "\n",
        "# Number of allocations\n",
        "num_allocations = 5\n",
        "\n",
        "# Number of possible numbers (1 to 16)\n",
        "num_numbers = 16\n",
        "\n",
        "# Initialize a dictionary to store allocations for each name\n",
        "allocations = {name: [] for name in names}\n",
        "\n",
        "for _ in range(num_allocations):\n",
        "    # Generate a list of available numbers for each allocation\n",
        "    available_numbers = list(range(1, num_numbers + 1))\n",
        "\n",
        "    for name in names:\n",
        "        # Shuffle the available numbers to randomize allocation\n",
        "        random.shuffle(available_numbers)\n",
        "\n",
        "        # Choose the first number from the shuffled list\n",
        "        chosen_number = available_numbers.pop(0)\n",
        "\n",
        "        # Add the chosen number to the allocation for the current name\n",
        "        allocations[name].append(chosen_number)\n",
        "\n",
        "# Ensure that no one has the same set of numbers as anyone else\n",
        "unique_allocations = set(tuple(allocations[name]) for name in names)\n",
        "\n",
        "# Create a DataFrame to store the allocations\n",
        "df = pd.DataFrame(columns=['Name'] + [f'Allocation_{i}' for i in range(1, num_allocations + 1)])\n",
        "\n",
        "for name, allocation in allocations.items():\n",
        "    df = df.append({'Name': name, **{f'Allocation_{i}': allocation[i] for i in range(num_allocations)}}, ignore_index=True)\n",
        "\n",
        "# Print the DataFrame\n",
        "print(df)\n"
      ],
      "metadata": {
        "id": "CkqpwUFCYdYT"
      },
      "execution_count": null,
      "outputs": []
    },
    {
      "cell_type": "code",
      "source": [
        "df"
      ],
      "metadata": {
        "id": "mbYfriQuYfjk"
      },
      "execution_count": null,
      "outputs": []
    },
    {
      "cell_type": "code",
      "source": [
        "import random\n",
        "import pandas as pd\n",
        "\n",
        "# List of names\n",
        "names = ['Name1', 'Name2', 'Name3', ...]  # Replace with your 692 names\n",
        "\n",
        "# Number of allocations\n",
        "num_allocations = 5\n",
        "\n",
        "# Number of possible numbers (1 to 16)\n",
        "num_numbers = 16\n",
        "\n",
        "# Create an empty DataFrame with all the names\n",
        "df = pd.DataFrame({'Name': names})\n",
        "\n",
        "# Initialize a dictionary to store allocations for each name\n",
        "allocations = {name: [] for name in names}\n",
        "\n",
        "for _ in range(num_allocations):\n",
        "    # Generate a list of available numbers for each allocation\n",
        "    available_numbers = list(range(1, num_numbers + 1))\n",
        "\n",
        "    for name in names:\n",
        "        # Shuffle the available numbers to randomize allocation\n",
        "        random.shuffle(available_numbers)\n",
        "\n",
        "        # Choose the first number from the shuffled list\n",
        "        chosen_number = available_numbers.pop(0)\n",
        "\n",
        "        # Add the chosen number to the allocation for the current name\n",
        "        allocations[name].append(chosen_number)\n",
        "\n",
        "# Add allocation columns to the DataFrame\n",
        "for i in range(1, num_allocations + 1):\n",
        "    df[f'Allocation_{i}'] = [allocations[name][i - 1] for name in df['Name']]\n",
        "\n",
        "# Print the DataFrame\n",
        "print(df)\n"
      ],
      "metadata": {
        "id": "1WkllD0kYrCF"
      },
      "execution_count": null,
      "outputs": []
    },
    {
      "cell_type": "code",
      "source": [
        "df"
      ],
      "metadata": {
        "id": "9ZQUPzzJYtHJ"
      },
      "execution_count": null,
      "outputs": []
    },
    {
      "cell_type": "code",
      "source": [
        "import random\n",
        "import pandas as pd\n",
        "\n",
        "# Number of names\n",
        "num_names = 692\n",
        "\n",
        "# Number of allocations\n",
        "num_allocations = 5\n",
        "\n",
        "# Number of possible numbers (1 to 16)\n",
        "num_numbers = 16\n",
        "\n",
        "# Generate a list of names\n",
        "names = [f'Name{i}' for i in range(1, num_names + 1)]\n",
        "\n",
        "# Create an empty DataFrame with all the names\n",
        "df = pd.DataFrame({'Name': names})\n",
        "\n",
        "# Initialize a dictionary to store allocations for each name\n",
        "allocations = {name: [] for name in names}\n",
        "\n",
        "for _ in range(num_allocations):\n",
        "    # Generate a list of available numbers for each allocation\n",
        "    available_numbers = list(range(1, num_numbers + 1))\n",
        "\n",
        "    for name in names:\n",
        "        # Shuffle the available numbers to randomize allocation\n",
        "        random.shuffle(available_numbers)\n",
        "\n",
        "        # Choose the first number from the shuffled list\n",
        "        chosen_number = available_numbers.pop(0)\n",
        "\n",
        "        # Add the chosen number to the allocation for the current name\n",
        "        allocations[name].append(chosen_number)\n",
        "\n",
        "# Add allocation columns to the DataFrame\n",
        "for i in range(1, num_allocations + 1):\n",
        "    df[f'Allocation_{i}'] = [allocations[name][i - 1] for name in df['Name']]\n",
        "\n",
        "# Print the DataFrame\n",
        "print(df)\n"
      ],
      "metadata": {
        "id": "9VXRN5p2ZACo"
      },
      "execution_count": null,
      "outputs": []
    },
    {
      "cell_type": "code",
      "source": [
        "import random\n",
        "import pandas as pd\n",
        "\n",
        "# Number of names\n",
        "num_names = 692\n",
        "\n",
        "# Number of allocations\n",
        "num_allocations = 5\n",
        "\n",
        "# Number of possible numbers (1 to 16)\n",
        "num_numbers = 16\n",
        "\n",
        "# Generate a list of names\n",
        "names = [f'Name{i}' for i in range(1, num_names + 1)]\n",
        "\n",
        "# Create an empty DataFrame with all the names\n",
        "df = pd.DataFrame({'Name': names})\n",
        "\n",
        "# Initialize a dictionary to store allocations for each name\n",
        "allocations = {name: [] for name in names}\n",
        "\n",
        "for _ in range(num_allocations):\n",
        "    for name in names:\n",
        "        # Generate a list of available numbers for each allocation\n",
        "        available_numbers = list(range(1, num_numbers + 1))\n",
        "\n",
        "        # Shuffle the available numbers to randomize allocation\n",
        "        random.shuffle(available_numbers)\n",
        "\n",
        "        # Choose the first number from the shuffled list\n",
        "        chosen_number = available_numbers.pop(0)\n",
        "\n",
        "        # Add the chosen number to the allocation for the current name\n",
        "        allocations[name].append(chosen_number)\n",
        "\n",
        "# Add allocation columns to the DataFrame\n",
        "for i in range(1, num_allocations + 1):\n",
        "    df[f'Allocation_{i}'] = [allocations[name][i - 1] for name in df['Name']]\n",
        "\n",
        "# Print the DataFrame\n",
        "print(df)\n"
      ],
      "metadata": {
        "id": "H8so3zTRZG5W"
      },
      "execution_count": null,
      "outputs": []
    },
    {
      "cell_type": "code",
      "source": [
        "df"
      ],
      "metadata": {
        "id": "0cm50ArbZI2A"
      },
      "execution_count": null,
      "outputs": []
    },
    {
      "cell_type": "code",
      "source": [
        "import random\n",
        "import pandas as pd\n",
        "\n",
        "# List of individuals (692 names)\n",
        "num_individuals = 692\n",
        "individuals = [f'Name{i}' for i in range(1, num_individuals + 1)]\n",
        "\n",
        "# List of teams for each week\n",
        "weeks_teams = {\n",
        "    'Week 1': ['Italy', 'Scotland', 'Georgia', 'Argentina', 'New Zealand', 'Romania', 'Fiji', 'Japan',\n",
        "               'Namibia', 'South Africa', 'Australia', 'Chile', 'France', 'Ireland', 'Wales', 'England'],\n",
        "    'Week 2': ['Uruguay', 'Tonga', 'Portugal', 'Samoa', 'New Zealand', 'Romania', 'Fiji', 'Japan',\n",
        "               'Namibia', 'South Africa', 'Australia', 'Chile', 'France', 'Ireland', 'Wales', 'England'],\n",
        "    'Week 3': ['Italy', 'Scotland', 'Georgia', 'Argentina', 'Uruguay', 'Tonga', 'Portugal', 'Samoa',\n",
        "               'Namibia', 'South Africa', 'Australia', 'Chile', 'France', 'Ireland', 'Wales', 'England'],\n",
        "    'Week 4': ['Italy', 'Scotland', 'Georgia', 'Argentina', 'Uruguay', 'Tonga', 'Portugal', 'Samoa',\n",
        "               'New Zealand', 'Romania', 'Fiji', 'Japan', 'Namibia', 'South Africa', 'Australia', 'Chile'],\n",
        "    'Week 5': ['Italy', 'Scotland', 'Georgia', 'Argentina', 'Uruguay', 'Tonga', 'Portugal', 'Samoa',\n",
        "               'New Zealand', 'Romania', 'Fiji', 'Japan', 'France', 'Ireland', 'Wales', 'England']\n",
        "}\n",
        "\n",
        "# Number of teams to allocate to each individual per week\n",
        "teams_per_individual = len(weeks_teams['Week 1']) // num_individuals\n",
        "\n",
        "# Initialize a DataFrame to store the picks\n",
        "df = pd.DataFrame(columns=['Name', 'Week'] + [f'Team_{i}' for i in range(1, 6)])\n",
        "\n",
        "# Run the allocation 692 times\n",
        "for individual in individuals:\n",
        "    # Shuffle the list of weeks to randomize allocation order\n",
        "    weeks_order = list(weeks_teams.keys())\n",
        "    random.shuffle(weeks_order)\n",
        "\n",
        "    # Initialize a list to store the picks for each week for the current individual\n",
        "    picks = [individual]\n",
        "\n",
        "    for week in weeks_order:\n",
        "        # Take the first available teams for the current week\n",
        "        teams = weeks_teams[week][:teams_per_individual]\n",
        "\n",
        "        # Remove the allocated teams from the list\n",
        "        weeks_teams[week] = weeks_teams[week][teams_per_individual:]\n",
        "\n",
        "        # Extend the picks list with the teams for the current week\n",
        "        picks.extend(teams)\n",
        "\n",
        "    # Add the picks for the current individual to the DataFrame\n",
        "    df.loc[len(df)] = picks\n",
        "\n",
        "# Reset the index of the DataFrame\n",
        "df.reset_index(drop=True, inplace=True)\n",
        "\n",
        "# Print the DataFrame\n",
        "print(df)\n"
      ],
      "metadata": {
        "id": "F0wP4qXHedGu"
      },
      "execution_count": null,
      "outputs": []
    },
    {
      "cell_type": "code",
      "source": [
        "import random\n",
        "import pandas as pd\n",
        "\n",
        "# List of individuals (692 names)\n",
        "num_individuals = 692\n",
        "individuals = [f'Name{i}' for i in range(1, num_individuals + 1)]\n",
        "\n",
        "# List of teams for each week\n",
        "weeks_teams = {\n",
        "    'Week 1': ['Italy', 'Scotland', 'Georgia', 'Argentina', 'New Zealand', 'Romania', 'Fiji', 'Japan',\n",
        "               'Namibia', 'South Africa', 'Australia', 'Chile', 'France', 'Ireland', 'Wales', 'England'],\n",
        "    'Week 2': ['Uruguay', 'Tonga', 'Portugal', 'Samoa', 'New Zealand', 'Romania', 'Fiji', 'Japan',\n",
        "               'Namibia', 'South Africa', 'Australia', 'Chile', 'France', 'Ireland', 'Wales', 'England'],\n",
        "    'Week 3': ['Italy', 'Scotland', 'Georgia', 'Argentina', 'Uruguay', 'Tonga', 'Portugal', 'Samoa',\n",
        "               'Namibia', 'South Africa', 'Australia', 'Chile', 'France', 'Ireland', 'Wales', 'England'],\n",
        "    'Week 4': ['Italy', 'Scotland', 'Georgia', 'Argentina', 'Uruguay', 'Tonga', 'Portugal', 'Samoa',\n",
        "               'New Zealand', 'Romania', 'Fiji', 'Japan', 'Namibia', 'South Africa', 'Australia', 'Chile'],\n",
        "    'Week 5': ['Italy', 'Scotland', 'Georgia', 'Argentina', 'Uruguay', 'Tonga', 'Portugal', 'Samoa',\n",
        "               'New Zealand', 'Romania', 'Fiji', 'Japan', 'France', 'Ireland', 'Wales', 'England']\n",
        "}\n",
        "\n",
        "# Number of teams to allocate to each individual per week\n",
        "teams_per_individual = len(weeks_teams['Week 1']) // num_individuals\n",
        "\n",
        "# Initialize a DataFrame to store the picks\n",
        "df = pd.DataFrame(columns=['Name', 'Week', 'Team'])\n",
        "\n",
        "# Run the allocation 692 times\n",
        "for individual in individuals:\n",
        "    # Shuffle the list of weeks to randomize allocation order\n",
        "    weeks_order = list(weeks_teams.keys())\n",
        "    random.shuffle(weeks_order)\n",
        "\n",
        "    # Initialize a list to store the picks for each week for the current individual\n",
        "    picks = []\n",
        "\n",
        "    for week in weeks_order:\n",
        "        # Take the first available teams for the current week\n",
        "        teams = weeks_teams[week][:teams_per_individual]\n",
        "\n",
        "        # Remove the allocated teams from the list\n",
        "        weeks_teams[week] = weeks_teams[week][teams_per_individual:]\n",
        "\n",
        "        # Extend the picks list with the teams and their respective weeks\n",
        "        picks.extend([(week, team) for team in teams])\n",
        "\n",
        "    # Add the picks for the current individual to the DataFrame\n",
        "    df = df.append(pd.DataFrame({'Name': [individual] * len(picks), 'Week': [p[0] for p in picks], 'Team': [p[1] for p in picks]}), ignore_index=True)\n",
        "\n",
        "# Print the DataFrame\n",
        "print(df)\n"
      ],
      "metadata": {
        "id": "u0vQ5zZ6enj-"
      },
      "execution_count": null,
      "outputs": []
    },
    {
      "cell_type": "code",
      "source": [
        "df"
      ],
      "metadata": {
        "id": "BWhgCjGfev0m"
      },
      "execution_count": null,
      "outputs": []
    },
    {
      "cell_type": "code",
      "source": [],
      "metadata": {
        "id": "TnF5D1PUe8My"
      },
      "execution_count": null,
      "outputs": []
    },
    {
      "cell_type": "code",
      "source": [
        "import random\n",
        "import pandas as pd\n",
        "\n",
        "# List of individuals (692 names)\n",
        "num_individuals = 692\n",
        "individuals = [f'Name{i}' for i in range(1, num_individuals + 1)]\n",
        "\n",
        "# List of teams for each week\n",
        "weeks_teams = {\n",
        "    'Week 1': ['Italy', 'Scotland', 'Georgia', 'Argentina', 'New Zealand', 'Romania', 'Fiji', 'Japan',\n",
        "               'Namibia', 'South Africa', 'Australia', 'Chile', 'France', 'Ireland', 'Wales', 'England'],\n",
        "    'Week 2': ['Uruguay', 'Tonga', 'Portugal', 'Samoa', 'New Zealand', 'Romania', 'Fiji', 'Japan',\n",
        "               'Namibia', 'South Africa', 'Australia', 'Chile', 'France', 'Ireland', 'Wales', 'England'],\n",
        "    'Week 3': ['Italy', 'Scotland', 'Georgia', 'Argentina', 'Uruguay', 'Tonga', 'Portugal', 'Samoa',\n",
        "               'Namibia', 'South Africa', 'Australia', 'Chile', 'France', 'Ireland', 'Wales', 'England'],\n",
        "    'Week 4': ['Italy', 'Scotland', 'Georgia', 'Argentina', 'Uruguay', 'Tonga', 'Portugal', 'Samoa',\n",
        "               'New Zealand', 'Romania', 'Fiji', 'Japan', 'Namibia', 'South Africa', 'Australia', 'Chile'],\n",
        "    'Week 5': ['Italy', 'Scotland', 'Georgia', 'Argentina', 'Uruguay', 'Tonga', 'Portugal', 'Samoa',\n",
        "               'New Zealand', 'Romania', 'Fiji', 'Japan', 'France', 'Ireland', 'Wales', 'England']\n",
        "}\n",
        "\n",
        "# Number of teams to allocate to each individual per week\n",
        "teams_per_individual = len(weeks_teams['Week 1']) // num_individuals\n",
        "\n",
        "# Initialize an empty DataFrame to store the picks\n",
        "df = pd.DataFrame(columns=['Name', 'Week', 'Team'])\n",
        "\n",
        "# Run the allocation 692 times\n",
        "for individual in individuals:\n",
        "    # Shuffle the list of weeks to randomize allocation order\n",
        "    weeks_order = list(weeks_teams.keys())\n",
        "    random.shuffle(weeks_order)\n",
        "\n",
        "    # Initialize a list to store the picks for each week for the current individual\n",
        "    picks = []\n",
        "\n",
        "    for week in weeks_order:\n",
        "        # Take the first available teams for the current week\n",
        "        teams = weeks_teams[week][:teams_per_individual]\n",
        "\n",
        "        # Remove the allocated teams from the list\n",
        "        weeks_teams[week] = weeks_teams[week][teams_per_individual:]\n",
        "\n",
        "        # Extend the picks list with the teams and their respective weeks\n",
        "        picks.extend([(individual, week, team) for team in teams])\n",
        "\n",
        "    # Append the picks for the current individual to the DataFrame\n",
        "    df = df.append(pd.DataFrame(picks, columns=['Name', 'Week', 'Team']), ignore_index=True)\n",
        "\n",
        "# Print the DataFrame\n",
        "print(df)\n"
      ],
      "metadata": {
        "id": "8Jzpz17je8S-"
      },
      "execution_count": null,
      "outputs": []
    },
    {
      "cell_type": "code",
      "source": [
        "import random\n",
        "import pandas as pd\n",
        "\n",
        "# List of individuals (692 names)\n",
        "num_individuals = 692\n",
        "individuals = [f'Name{i}' for i in range(1, num_individuals + 1)]\n",
        "\n",
        "# List of teams for each week\n",
        "weeks_teams = {\n",
        "    'Week 1': ['Italy', 'Scotland', 'Georgia', 'Argentina', 'New Zealand', 'Romania', 'Fiji', 'Japan',\n",
        "               'Namibia', 'South Africa', 'Australia', 'Chile', 'France', 'Ireland', 'Wales', 'England'],\n",
        "    'Week 2': ['Uruguay', 'Tonga', 'Portugal', 'Samoa', 'New Zealand', 'Romania', 'Fiji', 'Japan',\n",
        "               'Namibia', 'South Africa', 'Australia', 'Chile', 'France', 'Ireland', 'Wales', 'England'],\n",
        "    'Week 3': ['Italy', 'Scotland', 'Georgia', 'Argentina', 'Uruguay', 'Tonga', 'Portugal', 'Samoa',\n",
        "               'Namibia', 'South Africa', 'Australia', 'Chile', 'France', 'Ireland', 'Wales', 'England'],\n",
        "    'Week 4': ['Italy', 'Scotland', 'Georgia', 'Argentina', 'Uruguay', 'Tonga', 'Portugal', 'Samoa',\n",
        "               'New Zealand', 'Romania', 'Fiji', 'Japan', 'Namibia', 'South Africa', 'Australia', 'Chile'],\n",
        "    'Week 5': ['Italy', 'Scotland', 'Georgia', 'Argentina', 'Uruguay', 'Tonga', 'Portugal', 'Samoa',\n",
        "               'New Zealand', 'Romania', 'Fiji', 'Japan', 'France', 'Ireland', 'Wales', 'England']\n",
        "}\n",
        "\n",
        "# Number of teams to allocate to each individual per week\n",
        "teams_per_individual = len(weeks_teams['Week 1']) // num_individuals\n",
        "\n",
        "# Initialize an empty list to store the DataFrames for each individual\n",
        "df_list = []\n",
        "\n",
        "# Run the allocation 692 times\n",
        "for individual in individuals:\n",
        "    # Shuffle the list of weeks to randomize allocation order\n",
        "    weeks_order = list(weeks_teams.keys())\n",
        "    random.shuffle(weeks_order)\n",
        "\n",
        "    # Initialize a list to store the picks for each week for the current individual\n",
        "    picks = []\n",
        "\n",
        "    for week in weeks_order:\n",
        "        # Take the first available teams for the current week\n",
        "        teams = weeks_teams[week][:teams_per_individual]\n",
        "\n",
        "        # Remove the allocated teams from the list\n",
        "        weeks_teams[week] = weeks_teams[week][teams_per_individual:]\n",
        "\n",
        "        # Extend the picks list with the teams and their respective weeks\n",
        "        picks.extend([(individual, week, team) for team in teams])\n",
        "\n",
        "    # Create a DataFrame for the current individual's picks\n",
        "    individual_df = pd.DataFrame(picks, columns=['Name', 'Week', 'Team'])\n",
        "\n",
        "    # Append the DataFrame to the list\n",
        "    df_list.append(individual_df)\n",
        "\n",
        "# Concatenate all individual DataFrames into one\n",
        "df = pd.concat(df_list, ignore_index=True)\n",
        "\n",
        "# Print the DataFrame\n",
        "print(df)\n"
      ],
      "metadata": {
        "id": "pme-Cp7kfHZr"
      },
      "execution_count": null,
      "outputs": []
    },
    {
      "cell_type": "code",
      "source": [
        "import random\n",
        "import pandas as pd\n",
        "\n",
        "# List of individuals (692 names)\n",
        "num_individuals = 692\n",
        "individuals = [f'Name{i}' for i in range(1, num_individuals + 1)]\n",
        "\n",
        "# List of teams for each week\n",
        "weeks_teams = {\n",
        "    'Week 1': ['Italy', 'Scotland', 'Georgia', 'Argentina', 'New Zealand', 'Romania', 'Fiji', 'Japan',\n",
        "               'Namibia', 'South Africa', 'Australia', 'Chile', 'France', 'Ireland', 'Wales', 'England'],\n",
        "    'Week 2': ['Uruguay', 'Tonga', 'Portugal', 'Samoa', 'New Zealand', 'Romania', 'Fiji', 'Japan',\n",
        "               'Namibia', 'South Africa', 'Australia', 'Chile', 'France', 'Ireland', 'Wales', 'England'],\n",
        "    'Week 3': ['Italy', 'Scotland', 'Georgia', 'Argentina', 'Uruguay', 'Tonga', 'Portugal', 'Samoa',\n",
        "               'Namibia', 'South Africa', 'Australia', 'Chile', 'France', 'Ireland', 'Wales', 'England'],\n",
        "    'Week 4': ['Italy', 'Scotland', 'Georgia', 'Argentina', 'Uruguay', 'Tonga', 'Portugal', 'Samoa',\n",
        "               'New Zealand', 'Romania', 'Fiji', 'Japan', 'Namibia', 'South Africa', 'Australia', 'Chile'],\n",
        "    'Week 5': ['Italy', 'Scotland', 'Georgia', 'Argentina', 'Uruguay', 'Tonga', 'Portugal', 'Samoa',\n",
        "               'New Zealand', 'Romania', 'Fiji', 'Japan', 'France', 'Ireland', 'Wales', 'England']\n",
        "}\n",
        "\n",
        "# Initialize an empty DataFrame to store the picks\n",
        "df = pd.DataFrame(columns=['Name', 'Week', 'Team'])\n",
        "\n",
        "# Run the allocation for each week\n",
        "for week in weeks_teams:\n",
        "    # Shuffle the list of individuals to randomize allocation order\n",
        "    random.shuffle(individuals)\n",
        "\n",
        "    # Calculate the number of teams each individual should get\n",
        "    teams_per_individual = len(weeks_teams[week]) // num_individuals\n",
        "\n",
        "    # Initialize a list to store the picks for the current week\n",
        "    picks = []\n",
        "\n",
        "    for individual in individuals:\n",
        "        # Take the first available teams for the current week\n",
        "        teams = weeks_teams[week][:teams_per_individual]\n",
        "\n",
        "        # Remove the allocated teams from the list\n",
        "        weeks_teams[week] = weeks_teams[week][teams_per_individual:]\n",
        "\n",
        "        # Extend the picks list with the teams and their respective weeks\n",
        "        picks.extend([(individual, week, team) for team in teams])\n",
        "\n",
        "    # Create a DataFrame for the current week's picks\n",
        "    week_df = pd.DataFrame(picks, columns=['Name', 'Week', 'Team'])\n",
        "\n",
        "    # Append the DataFrame to the main DataFrame\n",
        "    df = pd.concat([df, week_df], ignore_index=True)\n",
        "\n",
        "# Print the DataFrame\n",
        "print(df)\n"
      ],
      "metadata": {
        "id": "Hq0Cc3LQfaMA"
      },
      "execution_count": null,
      "outputs": []
    },
    {
      "cell_type": "code",
      "source": [
        "import random\n",
        "import pandas as pd\n",
        "\n",
        "# List of individuals (692 names)\n",
        "num_individuals = 692\n",
        "individuals = [f'Name{i}' for i in range(1, num_individuals + 1)]\n",
        "\n",
        "# List of teams for each week\n",
        "weeks_teams = {\n",
        "    'Week 1': ['Italy', 'Scotland', 'Georgia', 'Argentina', 'New Zealand', 'Romania', 'Fiji', 'Japan',\n",
        "               'Namibia', 'South Africa', 'Australia', 'Chile', 'France', 'Ireland', 'Wales', 'England'],\n",
        "    'Week 2': ['Uruguay', 'Tonga', 'Portugal', 'Samoa', 'New Zealand', 'Romania', 'Fiji', 'Japan',\n",
        "               'Namibia', 'South Africa', 'Australia', 'Chile', 'France', 'Ireland', 'Wales', 'England'],\n",
        "    'Week 3': ['Italy', 'Scotland', 'Georgia', 'Argentina', 'Uruguay', 'Tonga', 'Portugal', 'Samoa',\n",
        "               'Namibia', 'South Africa', 'Australia', 'Chile', 'France', 'Ireland', 'Wales', 'England'],\n",
        "    'Week 4': ['Italy', 'Scotland', 'Georgia', 'Argentina', 'Uruguay', 'Tonga', 'Portugal', 'Samoa',\n",
        "               'New Zealand', 'Romania', 'Fiji', 'Japan', 'Namibia', 'South Africa', 'Australia', 'Chile'],\n",
        "    'Week 5': ['Italy', 'Scotland', 'Georgia', 'Argentina', 'Uruguay', 'Tonga', 'Portugal', 'Samoa',\n",
        "               'New Zealand', 'Romania', 'Fiji', 'Japan', 'France', 'Ireland', 'Wales', 'England']\n",
        "}\n",
        "\n",
        "# Initialize an empty DataFrame to store the picks\n",
        "df = pd.DataFrame(columns=['Name', 'Week', 'Team'])\n",
        "\n",
        "# Run the allocation for each week\n",
        "for week in weeks_teams:\n",
        "    # Shuffle the list of individuals to randomize allocation order\n",
        "    random.shuffle(individuals)\n",
        "\n",
        "    # Calculate the number of teams each individual should get\n",
        "    teams_per_individual = len(weeks_teams[week]) // num_individuals\n",
        "\n",
        "    # Initialize a list to store the picks for the current week\n",
        "    picks = []\n",
        "\n",
        "    for individual in individuals:\n",
        "        # Take the first available teams for the current week\n",
        "        teams = weeks_teams[week][:teams_per_individual]\n",
        "\n",
        "        # Remove the allocated teams from the list\n",
        "        weeks_teams[week] = weeks_teams[week][teams_per_individual:]\n",
        "\n",
        "        # Extend the picks list with the teams and their respective weeks\n",
        "        picks.extend([(individual, week, team) for team in teams])\n",
        "\n",
        "    # Create a DataFrame for the current week's picks\n",
        "    week_df = pd.DataFrame(picks, columns=['Name', 'Week', 'Team'])\n",
        "\n",
        "    # Append the DataFrame to the main DataFrame\n",
        "    df = pd.concat([df, week_df], ignore_index=True)\n",
        "\n",
        "# Print the DataFrame\n",
        "print(df)\n"
      ],
      "metadata": {
        "id": "Thf3fweHfehr"
      },
      "execution_count": null,
      "outputs": []
    },
    {
      "cell_type": "code",
      "source": [
        "import random\n",
        "import pandas as pd\n",
        "\n",
        "# List of individuals (692 names)\n",
        "num_individuals = 692\n",
        "individuals = [f'Name{i}' for i in range(1, num_individuals + 1)]\n",
        "\n",
        "# List of teams for each week\n",
        "weeks_teams = {\n",
        "    'Week 1': ['Italy', 'Scotland', 'Georgia', 'Argentina', 'New Zealand', 'Romania', 'Fiji', 'Japan',\n",
        "               'Namibia', 'South Africa', 'Australia', 'Chile', 'France', 'Ireland', 'Wales', 'England'],\n",
        "    'Week 2': ['Uruguay', 'Tonga', 'Portugal', 'Samoa', 'New Zealand', 'Romania', 'Fiji', 'Japan',\n",
        "               'Namibia', 'South Africa', 'Australia', 'Chile', 'France', 'Ireland', 'Wales', 'England'],\n",
        "    'Week 3': ['Italy', 'Scotland', 'Georgia', 'Argentina', 'Uruguay', 'Tonga', 'Portugal', 'Samoa',\n",
        "               'Namibia', 'South Africa', 'Australia', 'Chile', 'France', 'Ireland', 'Wales', 'England'],\n",
        "    'Week 4': ['Italy', 'Scotland', 'Georgia', 'Argentina', 'Uruguay', 'Tonga', 'Portugal', 'Samoa',\n",
        "               'New Zealand', 'Romania', 'Fiji', 'Japan', 'Namibia', 'South Africa', 'Australia', 'Chile'],\n",
        "    'Week 5': ['Italy', 'Scotland', 'Georgia', 'Argentina', 'Uruguay', 'Tonga', 'Portugal', 'Samoa',\n",
        "               'New Zealand', 'Romania', 'Fiji', 'Japan', 'France', 'Ireland', 'Wales', 'England']\n",
        "}\n",
        "\n",
        "# Initialize an empty DataFrame to store the picks\n",
        "df = pd.DataFrame(columns=['Name', 'Week', 'Team'])\n",
        "\n",
        "# Initialize a dictionary to track how many times each team has been picked\n",
        "team_counts = {team: 0 for team in set(team for teams in weeks_teams.values() for team in teams)}\n",
        "\n",
        "# Number of times each team should be picked\n",
        "min_picks_per_team = 41\n",
        "max_picks_per_team = 45\n",
        "\n",
        "# Run the allocation process for each week\n",
        "for week, week_teams in weeks_teams.items():\n",
        "    while any(count < min_picks_per_team for count in team_counts.values()):\n",
        "        # Shuffle the list of individuals to randomize allocation order\n",
        "        random.shuffle(individuals)\n",
        "\n",
        "        for individual in individuals:\n",
        "            # Shuffle the list of available teams for the current week\n",
        "            random.shuffle(week_teams)\n",
        "\n",
        "            # Find the first team from the shuffled list that can be allocated to the individual\n",
        "            allocated_team = None\n",
        "            for team in week_teams:\n",
        "                if team_counts[team] < max_picks_per_team:\n",
        "                    allocated_team = team\n",
        "                    break\n",
        "\n",
        "            # If a team can be allocated, update counts and add the allocation to the DataFrame\n",
        "            if allocated_team is not None:\n",
        "                team_counts[allocated_team] += 1\n",
        "                df = df.append({'Name': individual, 'Week': week, 'Team': allocated_team}, ignore_index=True)\n",
        "\n",
        "# Print the DataFrame\n",
        "print(df)\n"
      ],
      "metadata": {
        "id": "ymo2w4hagUVH"
      },
      "execution_count": null,
      "outputs": []
    },
    {
      "cell_type": "code",
      "source": [
        "import random\n",
        "import pandas as pd\n",
        "\n",
        "# List of individuals (692 names)\n",
        "num_individuals = 692\n",
        "individuals = [f'Name{i}' for i in range(1, num_individuals + 1)]\n",
        "\n",
        "# List of teams for each week\n",
        "weeks_teams = {\n",
        "    'Week 1': ['Italy', 'Scotland', 'Georgia', 'Argentina', 'New Zealand', 'Romania', 'Fiji', 'Japan',\n",
        "               'Namibia', 'South Africa', 'Australia', 'Chile', 'France', 'Ireland', 'Wales', 'England'],\n",
        "    'Week 2': ['Uruguay', 'Tonga', 'Portugal', 'Samoa', 'New Zealand', 'Romania', 'Fiji', 'Japan',\n",
        "               'Namibia', 'South Africa', 'Australia', 'Chile', 'France', 'Ireland', 'Wales', 'England'],\n",
        "    'Week 3': ['Italy', 'Scotland', 'Georgia', 'Argentina', 'Uruguay', 'Tonga', 'Portugal', 'Samoa',\n",
        "               'Namibia', 'South Africa', 'Australia', 'Chile', 'France', 'Ireland', 'Wales', 'England'],\n",
        "    'Week 4': ['Italy', 'Scotland', 'Georgia', 'Argentina', 'Uruguay', 'Tonga', 'Portugal', 'Samoa',\n",
        "               'New Zealand', 'Romania', 'Fiji', 'Japan', 'Namibia', 'South Africa', 'Australia', 'Chile'],\n",
        "    'Week 5': ['Italy', 'Scotland', 'Georgia', 'Argentina', 'Uruguay', 'Tonga', 'Portugal', 'Samoa',\n",
        "               'New Zealand', 'Romania', 'Fiji', 'Japan', 'France', 'Ireland', 'Wales', 'England']\n",
        "}\n",
        "\n",
        "# Initialize an empty DataFrame to store the picks\n",
        "df = pd.DataFrame(columns=['Name', 'Week', 'Team'])\n",
        "\n",
        "# Initialize a dictionary to track how many times each team has been picked\n",
        "team_counts = {team: 0 for team in set(team for teams in weeks_teams.values() for team in teams)}\n",
        "\n",
        "# Number of times each team should be picked\n",
        "min_picks_per_team = 41\n",
        "max_picks_per_team = 45\n",
        "\n",
        "# Run the allocation process for each week\n",
        "for week, week_teams in weeks_teams.items():\n",
        "    while any(count < min_picks_per_team for count in team_counts.values()):\n",
        "        # Shuffle the list of individuals to randomize allocation order\n",
        "        random.shuffle(individuals)\n",
        "\n",
        "        for individual in individuals:\n",
        "            # Shuffle the list of available teams for the current week\n",
        "            random.shuffle(week_teams)\n",
        "\n",
        "            # Find the first team from the shuffled list that can be allocated to the individual\n",
        "            allocated_team = None\n",
        "            for team in week_teams:\n",
        "                if team_counts[team] < max_picks_per_team:\n",
        "                    allocated_team = team\n",
        "                    break\n",
        "\n",
        "            # If a team can be allocated, update counts and add the allocation to the DataFrame\n",
        "            if allocated_team is not None:\n",
        "                team_counts[allocated_team] += 1\n",
        "                df = pd.concat([df, pd.DataFrame([{'Name': individual, 'Week': week, 'Team': allocated_team}])], ignore_index=True)\n",
        "\n",
        "# Print the DataFrame\n",
        "print(df)\n"
      ],
      "metadata": {
        "id": "O0zAbp-hgnZH"
      },
      "execution_count": null,
      "outputs": []
    },
    {
      "cell_type": "code",
      "source": [
        "import random\n",
        "import pandas as pd\n",
        "\n",
        "# List of individuals (692 names)\n",
        "num_individuals = 692\n",
        "individuals = [f'Name{i}' for i in range(1, num_individuals + 1)]\n",
        "\n",
        "# List of teams for each week\n",
        "weeks_teams = {\n",
        "    'Week 1': ['Italy', 'Scotland', 'Georgia', 'Argentina', 'New Zealand', 'Romania', 'Fiji', 'Japan',\n",
        "               'Namibia', 'South Africa', 'Australia', 'Chile', 'France', 'Ireland', 'Wales', 'England'],\n",
        "    'Week 2': ['Uruguay', 'Tonga', 'Portugal', 'Samoa', 'New Zealand', 'Romania', 'Fiji', 'Japan',\n",
        "               'Namibia', 'South Africa', 'Australia', 'Chile', 'France', 'Ireland', 'Wales', 'England'],\n",
        "    'Week 3': ['Italy', 'Scotland', 'Georgia', 'Argentina', 'Uruguay', 'Tonga', 'Portugal', 'Samoa',\n",
        "               'Namibia', 'South Africa', 'Australia', 'Chile', 'France', 'Ireland', 'Wales', 'England'],\n",
        "    'Week 4': ['Italy', 'Scotland', 'Georgia', 'Argentina', 'Uruguay', 'Tonga', 'Portugal', 'Samoa',\n",
        "               'New Zealand', 'Romania', 'Fiji', 'Japan', 'Namibia', 'South Africa', 'Australia', 'Chile'],\n",
        "    'Week 5': ['Italy', 'Scotland', 'Georgia', 'Argentina', 'Uruguay', 'Tonga', 'Portugal', 'Samoa',\n",
        "               'New Zealand', 'Romania', 'Fiji', 'Japan', 'France', 'Ireland', 'Wales', 'England']\n",
        "}\n",
        "\n",
        "# Initialize an empty DataFrame to store the picks\n",
        "df = pd.DataFrame(columns=['Name', 'Week', 'Team'])\n",
        "\n",
        "# Initialize a dictionary to track how many times each team has been picked\n",
        "team_counts = {team: 0 for team in set(team for teams in weeks_teams.values() for team in teams)}\n",
        "\n",
        "# Number of times each team should be picked\n",
        "min_picks_per_team = 41\n",
        "max_picks_per_team = 45\n",
        "\n",
        "# Generate the order of team allocation for each week\n",
        "week_orders = {week: random.sample(weeks_teams[week], len(weeks_teams[week])) for week in weeks_teams}\n",
        "\n",
        "# Run the allocation process for each week\n",
        "for week in weeks_teams.keys():\n",
        "    while any(count < min_picks_per_team for count in team_counts.values()):\n",
        "        # Shuffle the list of individuals to randomize allocation order\n",
        "        random.shuffle(individuals)\n",
        "\n",
        "        for individual in individuals:\n",
        "            # Get the next team from the precomputed order for the current week\n",
        "            allocated_team = None\n",
        "            for team in week_orders[week]:\n",
        "                if team_counts[team] < max_picks_per_team:\n",
        "                    allocated_team = team\n",
        "                    break\n",
        "\n",
        "            # If a team can be allocated, update counts and add the allocation to the DataFrame\n",
        "            if allocated_team is not None:\n",
        "                team_counts[allocated_team] += 1\n",
        "                df = pd.concat([df, pd.DataFrame([{'Name': individual, 'Week': week, 'Team': allocated_team}])], ignore_index=True)\n",
        "\n",
        "# Print the DataFrame\n",
        "print(df)\n"
      ],
      "metadata": {
        "id": "njyUVnmqh1eb"
      },
      "execution_count": null,
      "outputs": []
    },
    {
      "cell_type": "code",
      "source": [
        "import random\n",
        "import pandas as pd\n",
        "\n",
        "# List of individuals (692 names)\n",
        "num_individuals = 692\n",
        "individuals = [f'Name{i}' for i in range(1, num_individuals + 1)]\n",
        "\n",
        "# List of teams for Week 1\n",
        "week_1_teams = ['Italy', 'Scotland', 'Georgia', 'Argentina', 'New Zealand', 'Romania', 'Fiji', 'Japan',\n",
        "               'Namibia', 'South Africa', 'Australia', 'Chile', 'France', 'Ireland', 'Wales', 'England']\n",
        "\n",
        "# Initialize an empty DataFrame to store the picks for Week 1\n",
        "df_week_1 = pd.DataFrame(columns=['Name', 'Team'])\n",
        "\n",
        "# Initialize a dictionary to track how many times each team has been picked for Week 1\n",
        "team_counts_week_1 = {team: 0 for team in week_1_teams}\n",
        "\n",
        "# Number of times each team should be picked\n",
        "min_picks_per_team = 41\n",
        "max_picks_per_team = 45\n",
        "\n",
        "while any(count < min_picks_per_team for count in team_counts_week_1.values()):\n",
        "    # Shuffle the list of individuals to randomize allocation order\n",
        "    random.shuffle(individuals)\n",
        "\n",
        "    for individual in individuals:\n",
        "        # Shuffle the list of available teams for Week 1\n",
        "        random.shuffle(week_1_teams)\n",
        "\n",
        "        # Find the first team from the shuffled list that can be allocated to the individual\n",
        "        allocated_team = None\n",
        "        for team in week_1_teams:\n",
        "            if team_counts_week_1[team] < max_picks_per_team:\n",
        "                allocated_team = team\n",
        "                break\n",
        "\n",
        "        # If a team can be allocated, update counts and add the allocation to the DataFrame\n",
        "        if allocated_team is not None:\n",
        "            team_counts_week_1[allocated_team] += 1\n",
        "            df_week_1 = df_week_1.append({'Name': individual, 'Team': allocated_team}, ignore_index=True)\n",
        "\n",
        "# Print the DataFrame for Week 1\n",
        "print(df_week_1)\n"
      ],
      "metadata": {
        "id": "mBV47VODiTTX"
      },
      "execution_count": null,
      "outputs": []
    },
    {
      "cell_type": "code",
      "source": [
        "import random\n",
        "import pandas as pd\n",
        "\n",
        "# List of individuals (692 names)\n",
        "num_individuals = 692\n",
        "individuals = [f'Name{i}' for i in range(1, num_individuals + 1)]\n",
        "\n",
        "# List of teams for Week 1\n",
        "week_1_teams = ['Italy', 'Scotland', 'Georgia', 'Argentina', 'New Zealand', 'Romania', 'Fiji', 'Japan',\n",
        "               'Namibia', 'South Africa', 'Australia', 'Chile', 'France', 'Ireland', 'Wales', 'England']\n",
        "\n",
        "# Initialize an empty DataFrame to store the picks for Week 1\n",
        "df_week_1 = pd.DataFrame(columns=['Name', 'Team'])\n",
        "\n",
        "# Initialize a dictionary to track how many times each team has been picked for Week 1\n",
        "team_counts_week_1 = {team: 0 for team in week_1_teams}\n",
        "\n",
        "# Number of times each team should be picked\n",
        "min_picks_per_team = 41\n",
        "max_picks_per_team = 45\n",
        "\n",
        "while any(count < min_picks_per_team for count in team_counts_week_1.values()):\n",
        "    # Shuffle the list of individuals to randomize allocation order\n",
        "    random.shuffle(individuals)\n",
        "\n",
        "    for individual in individuals:\n",
        "        # Shuffle the list of available teams for Week 1\n",
        "        random.shuffle(week_1_teams)\n",
        "\n",
        "        # Find the first team from the shuffled list that can be allocated to the individual\n",
        "        allocated_team = None\n",
        "        for team in week_1_teams:\n",
        "            if team_counts_week_1[team] < max_picks_per_team:\n",
        "                allocated_team = team\n",
        "                break\n",
        "\n",
        "        # If a team can be allocated, update counts and add the allocation to the DataFrame\n",
        "        if allocated_team is not None:\n",
        "            team_counts_week_1[allocated_team] += 1\n",
        "            df_week_1 = pd.concat([df_week_1, pd.DataFrame([{'Name': individual, 'Team': allocated_team}])], ignore_index=True)\n",
        "\n",
        "# Print the DataFrame for Week 1\n",
        "print(df_week_1)\n"
      ],
      "metadata": {
        "id": "_5lXmcEuidFV"
      },
      "execution_count": null,
      "outputs": []
    },
    {
      "cell_type": "code",
      "source": [
        "import random\n",
        "import pandas as pd\n",
        "\n",
        "# List of individuals (692 names)\n",
        "num_individuals = 692\n",
        "individuals = [f'Name{i}' for i in range(1, num_individuals + 1)]\n",
        "\n",
        "# List of teams for Week 2\n",
        "week_2_teams = ['Uruguay', 'Tonga', 'Portugal', 'Samoa', 'New Zealand', 'Romania', 'Fiji', 'Japan',\n",
        "               'Namibia', 'South Africa', 'Australia', 'Chile', 'France', 'Ireland', 'Wales', 'England']\n",
        "\n",
        "# Initialize an empty DataFrame to store the picks for Week 2\n",
        "df_week_2 = pd.DataFrame(columns=['Name', 'Team'])\n",
        "\n",
        "# Initialize a dictionary to track how many times each team has been picked for Week 2\n",
        "team_counts_week_2 = {team: 0 for team in week_2_teams}\n",
        "\n",
        "# Number of times each team should be picked\n",
        "min_picks_per_team = 41\n",
        "max_picks_per_team = 45\n",
        "\n",
        "while any(count < min_picks_per_team for count in team_counts_week_2.values()):\n",
        "    # Shuffle the list of individuals to randomize allocation order\n",
        "    random.shuffle(individuals)\n",
        "\n",
        "    for individual in individuals:\n",
        "        # Shuffle the list of available teams for Week 2\n",
        "        random.shuffle(week_2_teams)\n",
        "\n",
        "        # Find the first team from the shuffled list that can be allocated to the individual\n",
        "        allocated_team = None\n",
        "        for team in week_2_teams:\n",
        "            if team_counts_week_2[team] < max_picks_per_team:\n",
        "                allocated_team = team\n",
        "                break\n",
        "\n",
        "        # If a team can be allocated, update counts and add the allocation to the DataFrame\n",
        "        if allocated_team is not None:\n",
        "            team_counts_week_2[allocated_team] += 1\n",
        "            df_week_2 = pd.concat([df_week_2, pd.DataFrame([{'Name': individual, 'Team': allocated_team}])], ignore_index=True)\n",
        "\n",
        "# Print the DataFrame for Week 2\n",
        "print(df_week_2)\n"
      ],
      "metadata": {
        "id": "xs3BMpdxiyCE"
      },
      "execution_count": null,
      "outputs": []
    },
    {
      "cell_type": "code",
      "source": [
        "import random\n",
        "import pandas as pd\n",
        "\n",
        "# List of individuals (692 names)\n",
        "num_individuals = 692\n",
        "individuals = [f'Name{i}' for i in range(1, num_individuals + 1)]\n",
        "\n",
        "# List of teams for Week 3\n",
        "week_3_teams = ['Italy', 'Scotland', 'Georgia', 'Argentina', 'Uruguay', 'Tonga', 'Portugal', 'Samoa',\n",
        "               'Namibia', 'South Africa', 'Australia', 'Chile', 'France', 'Ireland', 'Wales', 'England']\n",
        "\n",
        "# Initialize an empty DataFrame to store the picks for Week 3\n",
        "df_week_3 = pd.DataFrame(columns=['Name', 'Team'])\n",
        "\n",
        "# Initialize a dictionary to track how many times each team has been picked for Week 3\n",
        "team_counts_week_3 = {team: 0 for team in week_3_teams}\n",
        "\n",
        "# Number of times each team should be picked\n",
        "min_picks_per_team = 41\n",
        "max_picks_per_team = 45\n",
        "\n",
        "while any(count < min_picks_per_team for count in team_counts_week_3.values()):\n",
        "    # Shuffle the list of individuals to randomize allocation order\n",
        "    random.shuffle(individuals)\n",
        "\n",
        "    for individual in individuals:\n",
        "        # Shuffle the list of available teams for Week 3\n",
        "        random.shuffle(week_3_teams)\n",
        "\n",
        "        # Find the first team from the shuffled list that can be allocated to the individual\n",
        "        allocated_team = None\n",
        "        for team in week_3_teams:\n",
        "            if team_counts_week_3[team] < max_picks_per_team:\n",
        "                allocated_team = team\n",
        "                break\n",
        "\n",
        "        # If a team can be allocated, update counts and add the allocation to the DataFrame\n",
        "        if allocated_team is not None:\n",
        "            team_counts_week_3[allocated_team] += 1\n",
        "            df_week_3 = pd.concat([df_week_3, pd.DataFrame([{'Name': individual, 'Team': allocated_team}])], ignore_index=True)\n",
        "\n",
        "# Print the DataFrame for Week 3\n",
        "print(df_week_3)\n"
      ],
      "metadata": {
        "id": "9ZfAAt7UjI6K"
      },
      "execution_count": null,
      "outputs": []
    },
    {
      "cell_type": "code",
      "source": [
        "import random\n",
        "import pandas as pd\n",
        "\n",
        "# List of individuals (692 names)\n",
        "num_individuals = 692\n",
        "individuals = [f'Name{i}' for i in range(1, num_individuals + 1)]\n",
        "\n",
        "# List of teams for Week 4\n",
        "week_4_teams = ['Italy', 'Scotland', 'Georgia', 'Argentina', 'Uruguay', 'Tonga', 'Portugal', 'Samoa',\n",
        "               'New Zealand', 'Romania', 'Fiji', 'Japan', 'Namibia', 'South Africa', 'Australia', 'Chile']\n",
        "\n",
        "# Initialize an empty DataFrame to store the picks for Week 4\n",
        "df_week_4 = pd.DataFrame(columns=['Name', 'Team'])\n",
        "\n",
        "# Initialize a dictionary to track how many times each team has been picked for Week 4\n",
        "team_counts_week_4 = {team: 0 for team in week_4_teams}\n",
        "\n",
        "# Number of times each team should be picked\n",
        "min_picks_per_team = 41\n",
        "max_picks_per_team = 45\n",
        "\n",
        "while any(count < min_picks_per_team for count in team_counts_week_4.values()):\n",
        "    # Shuffle the list of individuals to randomize allocation order\n",
        "    random.shuffle(individuals)\n",
        "\n",
        "    for individual in individuals:\n",
        "        # Shuffle the list of available teams for Week 4\n",
        "        random.shuffle(week_4_teams)\n",
        "\n",
        "        # Find the first team from the shuffled list that can be allocated to the individual\n",
        "        allocated_team = None\n",
        "        for team in week_4_teams:\n",
        "            if team_counts_week_4[team] < max_picks_per_team:\n",
        "                allocated_team = team\n",
        "                break\n",
        "\n",
        "        # If a team can be allocated, update counts and add the allocation to the DataFrame\n",
        "        if allocated_team is not None:\n",
        "            team_counts_week_4[allocated_team] += 1\n",
        "            df_week_4 = pd.concat([df_week_4, pd.DataFrame([{'Name': individual, 'Team': allocated_team}])], ignore_index=True)\n",
        "\n",
        "# Print the DataFrame for Week 4\n",
        "print(df_week_4)\n"
      ],
      "metadata": {
        "id": "5SiO-5lGjaaS"
      },
      "execution_count": null,
      "outputs": []
    },
    {
      "cell_type": "code",
      "source": [
        "import random\n",
        "import pandas as pd\n",
        "\n",
        "# List of individuals (692 names)\n",
        "num_individuals = 692\n",
        "individuals = [f'Name{i}' for i in range(1, num_individuals + 1)]\n",
        "\n",
        "# List of teams for Week 5\n",
        "week_5_teams = ['Italy', 'Scotland', 'Georgia', 'Argentina', 'Uruguay', 'Tonga', 'Portugal', 'Samoa',\n",
        "               'New Zealand', 'Romania', 'Fiji', 'Japan', 'France', 'Ireland', 'Wales', 'England']\n",
        "\n",
        "# Initialize an empty DataFrame to store the picks for Week 5\n",
        "df_week_5 = pd.DataFrame(columns=['Name', 'Team'])\n",
        "\n",
        "# Initialize a dictionary to track how many times each team has been picked for Week 5\n",
        "team_counts_week_5 = {team: 0 for team in week_5_teams}\n",
        "\n",
        "# Number of times each team should be picked\n",
        "min_picks_per_team = 41\n",
        "max_picks_per_team = 45\n",
        "\n",
        "while any(count < min_picks_per_team for count in team_counts_week_5.values()):\n",
        "    # Shuffle the list of individuals to randomize allocation order\n",
        "    random.shuffle(individuals)\n",
        "\n",
        "    for individual in individuals:\n",
        "        # Shuffle the list of available teams for Week 5\n",
        "        random.shuffle(week_5_teams)\n",
        "\n",
        "        # Find the first team from the shuffled list that can be allocated to the individual\n",
        "        allocated_team = None\n",
        "        for team in week_5_teams:\n",
        "            if team_counts_week_5[team] < max_picks_per_team:\n",
        "                allocated_team = team\n",
        "                break\n",
        "\n",
        "        # If a team can be allocated, update counts and add the allocation to the DataFrame\n",
        "        if allocated_team is not None:\n",
        "            team_counts_week_5[allocated_team] += 1\n",
        "            df_week_5 = pd.concat([df_week_5, pd.DataFrame([{'Name': individual, 'Team': allocated_team}])], ignore_index=True)\n",
        "\n",
        "# Print the DataFrame for Week 5\n",
        "print(df_week_5)\n"
      ],
      "metadata": {
        "id": "gml8zV4Gj7P4"
      },
      "execution_count": null,
      "outputs": []
    },
    {
      "cell_type": "code",
      "source": [
        "# Merge DataFrames for all weeks\n",
        "merged_df = pd.concat([df_week_1, df_week_2, df_week_3, df_week_4, df_week_5], ignore_index=True)\n",
        "\n",
        "# Print the merged DataFrame\n",
        "print(merged_df)\n"
      ],
      "metadata": {
        "id": "0oDeLg_zj-Du"
      },
      "execution_count": null,
      "outputs": []
    },
    {
      "cell_type": "code",
      "source": [
        "merged_df"
      ],
      "metadata": {
        "id": "1Vf6e04UkBco"
      },
      "execution_count": null,
      "outputs": []
    },
    {
      "cell_type": "code",
      "source": [
        "import random\n",
        "import pandas as pd\n",
        "\n",
        "# List of individuals (692 names)\n",
        "num_individuals = 692\n",
        "individuals = [f'Name{i}' for i in range(1, num_individuals + 1)]\n",
        "\n",
        "# List of teams for each week\n",
        "weeks_teams = {\n",
        "    'Week 1': ['Italy', 'Scotland', 'Georgia', 'Argentina', 'New Zealand', 'Romania', 'Fiji', 'Japan',\n",
        "               'Namibia', 'South Africa', 'Australia', 'Chile', 'France', 'Ireland', 'Wales', 'England'],\n",
        "    'Week 2': ['Uruguay', 'Tonga', 'Portugal', 'Samoa', 'New Zealand', 'Romania', 'Fiji', 'Japan',\n",
        "               'Namibia', 'South Africa', 'Australia', 'Chile', 'France', 'Ireland', 'Wales', 'England'],\n",
        "    'Week 3': ['Italy', 'Scotland', 'Georgia', 'Argentina', 'Uruguay', 'Tonga', 'Portugal', 'Samoa',\n",
        "               'Namibia', 'South Africa', 'Australia', 'Chile', 'France', 'Ireland', 'Wales', 'England'],\n",
        "    'Week 4': ['Italy', 'Scotland', 'Georgia', 'Argentina', 'Uruguay', 'Tonga', 'Portugal', 'Samoa',\n",
        "               'New Zealand', 'Romania', 'Fiji', 'Japan', 'Namibia', 'South Africa', 'Australia', 'Chile'],\n",
        "    'Week 5': ['Italy', 'Scotland', 'Georgia', 'Argentina', 'Uruguay', 'Tonga', 'Portugal', 'Samoa',\n",
        "               'New Zealand', 'Romania', 'Fiji', 'Japan', 'France', 'Ireland', 'Wales', 'England']\n",
        "}\n",
        "\n",
        "# Initialize an empty DataFrame to store the results\n",
        "df = pd.DataFrame(columns=['Name', 'Week 1 Team', 'Week 2 Team', 'Week 3 Team', 'Week 4 Team', 'Week 5 Team'])\n",
        "\n",
        "# Number of times each team should be picked\n",
        "min_picks_per_team = 41\n",
        "max_picks_per_team = 45\n",
        "\n",
        "# Initialize a dictionary to track how many times each team has been picked for each week\n",
        "team_counts = {week: {team: 0 for team in teams} for week, teams in weeks_teams.items()}\n",
        "\n",
        "while any(count < min_picks_per_team for count in team_counts['Week 1'].values()):\n",
        "    # Shuffle the list of individuals to randomize allocation order\n",
        "    random.shuffle(individuals)\n",
        "\n",
        "    for individual in individuals:\n",
        "        week_teams = {week: None for week in weeks_teams.keys()}\n",
        "\n",
        "        for week in weeks_teams.keys():\n",
        "            # Shuffle the list of available teams for the current week\n",
        "            random.shuffle(weeks_teams[week])\n",
        "\n",
        "            # Find the first team from the shuffled list that can be allocated to the individual\n",
        "            allocated_team = None\n",
        "            for team in weeks_teams[week]:\n",
        "                if team_counts[week][team] < max_picks_per_team:\n",
        "                    allocated_team = team\n",
        "                    break\n",
        "\n",
        "            # If a team can be allocated, update counts and the week_teams dictionary\n",
        "            if allocated_team is not None:\n",
        "                team_counts[week][allocated_team] += 1\n",
        "                week_teams[week] = allocated_team\n",
        "\n",
        "        # Add the allocations to the DataFrame\n",
        "        df = pd.concat([df, pd.DataFrame([{'Name': individual,\n",
        "                                           'Week 1 Team': week_teams['Week 1'],\n",
        "                                           'Week 2 Team': week_teams['Week 2'],\n",
        "                                           'Week 3 Team': week_teams['Week 3'],\n",
        "                                           'Week 4 Team': week_teams['Week 4'],\n",
        "                                           'Week 5 Team': week_teams['Week 5']}])], ignore_index=True)\n",
        "\n",
        "# Print the DataFrame\n",
        "print(df)\n"
      ],
      "metadata": {
        "id": "EfL2mmmJkYHb"
      },
      "execution_count": null,
      "outputs": []
    },
    {
      "cell_type": "code",
      "source": [
        "df"
      ],
      "metadata": {
        "id": "4LdDJ_dckcay"
      },
      "execution_count": null,
      "outputs": []
    },
    {
      "cell_type": "code",
      "source": [
        "import random\n",
        "import pandas as pd\n",
        "\n",
        "# List of individuals (692 names)\n",
        "num_individuals = 692\n",
        "individuals = [f'Name{i}' for i in range(1, num_individuals + 1)]\n",
        "\n",
        "# List of quarter-final teams\n",
        "quarter_finals_teams = ['QF1', 'QF2', 'QF3', 'QF4', 'QF5', 'QF6', 'QF7', 'QF8']\n",
        "\n",
        "# List of semi-final teams\n",
        "semi_finals_teams = ['SF1', 'SF2', 'SF3', 'SF4']\n",
        "\n",
        "# List of final teams\n",
        "finals_teams = ['Final 1', 'Final 2']\n",
        "\n",
        "# Initialize an empty DataFrame to store the picks\n",
        "df = pd.DataFrame(columns=['Name', 'Quarter-Final Team', 'Semi-Final Team', 'Final Team'])\n",
        "\n",
        "# Initialize a dictionary to track how many times each team has been picked\n",
        "team_counts = {\n",
        "    'Quarter-Final Team': {team: 0 for team in quarter_finals_teams},\n",
        "    'Semi-Final Team': {team: 0 for team in semi_finals_teams},\n",
        "    'Final Team': {team: 0 for team in finals_teams},\n",
        "}\n",
        "\n",
        "# Number of times each team should be picked\n",
        "min_picks_per_team_qf = 86\n",
        "max_picks_per_team_qf = 92\n",
        "min_picks_per_team_sf_final = 223\n",
        "max_picks_per_team_sf_final = 346\n",
        "\n",
        "while any(count < min_picks_per_team_qf for count in team_counts['Quarter-Final Team'].values()):\n",
        "    # Shuffle the list of individuals to randomize allocation order\n",
        "    random.shuffle(individuals)\n",
        "\n",
        "    for individual in individuals:\n",
        "        teams = {\n",
        "            'Quarter-Final Team': None,\n",
        "            'Semi-Final Team': None,\n",
        "            'Final Team': None,\n",
        "        }\n",
        "\n",
        "        for category in ['Quarter-Final Team', 'Semi-Final Team', 'Final Team']:\n",
        "            # Shuffle the list of available teams for the current category\n",
        "            random.shuffle(team_counts[category].keys())\n",
        "\n",
        "            # Find the first team from the shuffled list that can be allocated to the individual\n",
        "            allocated_team = None\n",
        "            for team in team_counts[category].keys():\n",
        "                if (\n",
        "                    (category == 'Quarter-Final Team' and\n",
        "                     team_counts[category][team] < max_picks_per_team_qf) or\n",
        "                    (category in ('Semi-Final Team', 'Final Team') and\n",
        "                     team_counts[category][team] < max_picks_per_team_sf_final)\n",
        "                ):\n",
        "                    allocated_team = team\n",
        "                    break\n",
        "\n",
        "            # If a team can be allocated, update counts and the teams dictionary\n",
        "            if allocated_team is not None:\n",
        "                team_counts[category][allocated_team] += 1\n",
        "                teams[category] = allocated_team\n",
        "\n",
        "        # Add the allocations to the DataFrame\n",
        "        df = pd.concat([df, pd.DataFrame([{'Name': individual,\n",
        "                                           'Quarter-Final Team': teams['Quarter-Final Team'],\n",
        "                                           'Semi-Final Team': teams['Semi-Final Team'],\n",
        "                                           'Final Team': teams['Final Team']}])], ignore_index=True)\n",
        "\n",
        "# Print the DataFrame\n",
        "print(df)\n"
      ],
      "metadata": {
        "id": "Blk1XTjvl6d8"
      },
      "execution_count": null,
      "outputs": []
    },
    {
      "cell_type": "code",
      "source": [
        "import random\n",
        "import pandas as pd\n",
        "\n",
        "# List of individuals (692 names)\n",
        "num_individuals = 692\n",
        "individuals = [f'Name{i}' for i in range(1, num_individuals + 1)]\n",
        "\n",
        "# List of quarter-final teams\n",
        "quarter_finals_teams = ['QF1', 'QF2', 'QF3', 'QF4', 'QF5', 'QF6', 'QF7', 'QF8']\n",
        "\n",
        "# List of semi-final teams\n",
        "semi_finals_teams = ['SF1', 'SF2', 'SF3', 'SF4']\n",
        "\n",
        "# List of final teams\n",
        "finals_teams = ['Final 1', 'Final 2']\n",
        "\n",
        "# Initialize an empty DataFrame to store the picks\n",
        "df = pd.DataFrame(columns=['Name', 'Quarter-Final Team', 'Semi-Final Team', 'Final Team'])\n",
        "\n",
        "# Initialize a dictionary to track how many times each team has been picked\n",
        "team_counts = {\n",
        "    'Quarter-Final Team': {team: 0 for team in quarter_finals_teams},\n",
        "    'Semi-Final Team': {team: 0 for team in semi_finals_teams},\n",
        "    'Final Team': {team: 0 for team in finals_teams},\n",
        "}\n",
        "\n",
        "# Number of times each team should be picked\n",
        "min_picks_per_team_qf = 86\n",
        "max_picks_per_team_qf = 92\n",
        "min_picks_per_team_sf_final = 223\n",
        "max_picks_per_team_sf_final = 346\n",
        "\n",
        "while any(count < min_picks_per_team_qf for count in team_counts['Quarter-Final Team'].values()):\n",
        "    # Shuffle the list of individuals to randomize allocation order\n",
        "    random.shuffle(individuals)\n",
        "\n",
        "    for individual in individuals:\n",
        "        teams = {\n",
        "            'Quarter-Final Team': None,\n",
        "            'Semi-Final Team': None,\n",
        "            'Final Team': None,\n",
        "        }\n",
        "\n",
        "        for category in ['Quarter-Final Team', 'Semi-Final Team', 'Final Team']:\n",
        "            # Shuffle the list of available teams for the current category\n",
        "            available_teams = list(team_counts[category].keys())\n",
        "            random.shuffle(available_teams)\n",
        "\n",
        "            # Find the first team from the shuffled list that can be allocated to the individual\n",
        "            allocated_team = None\n",
        "            for team in available_teams:\n",
        "                if (\n",
        "                    (category == 'Quarter-Final Team' and\n",
        "                     team_counts[category][team] < max_picks_per_team_qf) or\n",
        "                    (category in ('Semi-Final Team', 'Final Team') and\n",
        "                     team_counts[category][team] < max_picks_per_team_sf_final)\n",
        "                ):\n",
        "                    allocated_team = team\n",
        "                    break\n",
        "\n",
        "            # If a team can be allocated, update counts and the teams dictionary\n",
        "            if allocated_team is not None:\n",
        "                team_counts[category][allocated_team] += 1\n",
        "                teams[category] = allocated_team\n",
        "\n",
        "        # Add the allocations to the DataFrame\n",
        "        df = pd.concat([df, pd.DataFrame([{'Name': individual,\n",
        "                                           'Quarter-Final Team': teams['Quarter-Final Team'],\n",
        "                                           'Semi-Final Team': teams['Semi-Final Team'],\n",
        "                                           'Final Team': teams['Final Team']}])], ignore_index=True)\n",
        "\n",
        "# Print the DataFrame\n",
        "print(df)\n"
      ],
      "metadata": {
        "id": "bJqDFv7smE7N"
      },
      "execution_count": null,
      "outputs": []
    },
    {
      "cell_type": "code",
      "source": [
        "df"
      ],
      "metadata": {
        "id": "Gvw45UU3mHOH"
      },
      "execution_count": null,
      "outputs": []
    }
  ],
  "metadata": {
    "colab": {
      "private_outputs": true,
      "toc_visible": true,
      "provenance": [],
      "include_colab_link": true
    },
    "kernelspec": {
      "display_name": "Python 3",
      "name": "python3"
    },
    "language_info": {
      "name": "python"
    }
  },
  "nbformat": 4,
  "nbformat_minor": 0
}